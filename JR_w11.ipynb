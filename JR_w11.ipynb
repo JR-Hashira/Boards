{
  "nbformat": 4,
  "nbformat_minor": 0,
  "metadata": {
    "colab": {
      "provenance": []
    },
    "kernelspec": {
      "name": "python3",
      "display_name": "Python 3"
    },
    "language_info": {
      "name": "python"
    }
  },
  "cells": [
    {
      "cell_type": "markdown",
      "metadata": {
        "id": "view-in-github"
      },
      "source": [
        "<a href=\"https://colab.research.google.com/github/JBattana/338-Assignments/blob/main/338_Assignment_13_1.ipynb\" target=\"_parent\"><img src=\"https://colab.research.google.com/assets/colab-badge.svg\" alt=\"Open In Colab\"/></a>"
      ]
    },
    {
      "cell_type": "markdown",
      "source": [
        "Building a Simple Book Recommendation System"
      ],
      "metadata": {
        "id": "Qv6Z-KUu8mBN"
      }
    },
    {
      "cell_type": "code",
      "execution_count": 1,
      "metadata": {
        "id": "2lwJvzH-8lm6"
      },
      "outputs": [],
      "source": [
        "books = [\n",
        "    {\"id\": 1, \"title\": \"To Kill a Mockingbird\", \"author\": \"Harper Lee\", \"genre\": \"Fiction\", \"themes\": \"Coming-of-age, Racism, Injustice\", \"era\": \"20th Century\"},\n",
        "    {\"id\": 2, \"title\": \"1984\", \"author\": \"George Orwell\", \"genre\": \"Science Fiction\", \"themes\": \"Dystopia, Totalitarianism, Surveillance\", \"era\": \"20th Century\"},\n",
        "    {\"id\": 3, \"title\": \"Pride and Prejudice\", \"author\": \"Jane Austen\", \"genre\": \"Romance\", \"themes\": \"Social class, Love, Marriage\", \"era\": \"19th Century\"},\n",
        "    {\"id\": 4, \"title\": \"The Great Gatsby\", \"author\": \"F. Scott Fitzgerald\", \"genre\": \"Fiction\", \"themes\": \"American Dream, Wealth, Decadence\", \"era\": \"20th Century\"},\n",
        "    {\"id\": 5, \"title\": \"Harry Potter and the Sorcerer's Stone\", \"author\": \"J.K. Rowling\", \"genre\": \"Fantasy\", \"themes\": \"Magic, Friendship, Coming-of-age\", \"era\": \"20th Century\"},\n",
        "    {\"id\": 6, \"title\": \"The Catcher in the Rye\", \"author\": \"J.D. Salinger\", \"genre\": \"Fiction\", \"themes\": \"Alienation, Growing up, Identity\", \"era\": \"20th Century\"},\n",
        "    {\"id\": 7, \"title\": \"The Hobbit\", \"author\": \"J.R.R. Tolkien\", \"genre\": \"Fantasy\", \"themes\": \"Adventure, Heroism, Greed\", \"era\": \"20th Century\"},\n",
        "    {\"id\": 8, \"title\": \"Brave New World\", \"author\": \"Aldous Huxley\", \"genre\": \"Science Fiction\", \"themes\": \"Dystopia, Technology, Freedom\", \"era\": \"20th Century\"},\n",
        "    {\"id\": 9, \"title\": \"Jane Eyre\", \"author\": \"Charlotte Bronte\", \"genre\": \"Romance\", \"themes\": \"Love, Independence, Social criticism\", \"era\": \"19th Century\"},\n",
        "    {\"id\": 10, \"title\": \"The Da Vinci Code\", \"author\": \"Dan Brown\", \"genre\": \"Thriller\", \"themes\": \"Conspiracy, Religion, Art\", \"era\": \"21st Century\"},\n",
        "    {\"id\": 11, \"title\": \"The Hunger Games\", \"author\": \"Suzanne Collins\", \"genre\": \"Young Adult\", \"themes\": \"Dystopia, Survival, Rebellion\", \"era\": \"21st Century\"},\n",
        "    {\"id\": 12, \"title\": \"The Alchemist\", \"author\": \"Paulo Coelho\", \"genre\": \"Fiction\", \"themes\": \"Self-discovery, Destiny, Spirituality\", \"era\": \"20th Century\"},\n",
        "    {\"id\": 13, \"title\": \"The Girl with the Dragon Tattoo\", \"author\": \"Stieg Larsson\", \"genre\": \"Mystery\", \"themes\": \"Crime, Corruption, Feminism\", \"era\": \"21st Century\"},\n",
        "    {\"id\": 14, \"title\": \"The Kite Runner\", \"author\": \"Khaled Hosseini\", \"genre\": \"Historical Fiction\", \"themes\": \"Redemption, Friendship, Culture\", \"era\": \"21st Century\"},\n",
        "    {\"id\": 15, \"title\": \"The Hitchhiker's Guide to the Galaxy\", \"author\": \"Douglas Adams\", \"genre\": \"Science Fiction\", \"themes\": \"Humor, Absurdity, Space travel\", \"era\": \"20th Century\"},\n",
        "    {\"id\": 16, \"title\": \"The Fault in Our Stars\", \"author\": \"John Green\", \"genre\": \"Young Adult\", \"themes\": \"Love, Illness, Coming-of-age\", \"era\": \"21st Century\"},\n",
        "    {\"id\": 17, \"title\": \"The Picture of Dorian Gray\", \"author\": \"Oscar Wilde\", \"genre\": \"Gothic Fiction\", \"themes\": \"Beauty, Corruption, Hedonism\", \"era\": \"19th Century\"},\n",
        "    {\"id\": 18, \"title\": \"The Martian\", \"author\": \"Andy Weir\", \"genre\": \"Science Fiction\", \"themes\": \"Survival, Science, Isolation\", \"era\": \"21st Century\"},\n",
        "    {\"id\": 19, \"title\": \"One Hundred Years of Solitude\", \"author\": \"Gabriel García Márquez\", \"genre\": \"Magical Realism\", \"themes\": \"Family, Time, Solitude\", \"era\": \"20th Century\"},\n",
        "    {\"id\": 20, \"title\": \"The Giver\", \"author\": \"Lois Lowry\", \"genre\": \"Young Adult\", \"themes\": \"Dystopia, Memory, Individuality\", \"era\": \"20th Century\"}\n",
        "]"
      ]
    },
    {
      "cell_type": "markdown",
      "source": [
        "Load the book data into a suitable a pandas DataFrame.\n"
      ],
      "metadata": {
        "id": "iutJRLOG83Ip"
      }
    },
    {
      "cell_type": "code",
      "source": [
        "import pandas as pd\n",
        "\n",
        "# Coverting the books into a DataFrame\n",
        "df = pd.DataFrame(books)\n",
        "\n",
        "print(df.head)"
      ],
      "metadata": {
        "id": "J3-xoS0U8tSb",
        "colab": {
          "base_uri": "https://localhost:8080/"
        },
        "outputId": "5d4b7bbd-02bc-471c-b22e-9c28fb0eac09"
      },
      "execution_count": 2,
      "outputs": [
        {
          "output_type": "stream",
          "name": "stdout",
          "text": [
            "<bound method NDFrame.head of     id                                  title                  author  \\\n",
            "0    1                  To Kill a Mockingbird              Harper Lee   \n",
            "1    2                                   1984           George Orwell   \n",
            "2    3                    Pride and Prejudice             Jane Austen   \n",
            "3    4                       The Great Gatsby     F. Scott Fitzgerald   \n",
            "4    5  Harry Potter and the Sorcerer's Stone            J.K. Rowling   \n",
            "5    6                 The Catcher in the Rye           J.D. Salinger   \n",
            "6    7                             The Hobbit          J.R.R. Tolkien   \n",
            "7    8                        Brave New World           Aldous Huxley   \n",
            "8    9                              Jane Eyre        Charlotte Bronte   \n",
            "9   10                      The Da Vinci Code               Dan Brown   \n",
            "10  11                       The Hunger Games         Suzanne Collins   \n",
            "11  12                          The Alchemist            Paulo Coelho   \n",
            "12  13        The Girl with the Dragon Tattoo           Stieg Larsson   \n",
            "13  14                        The Kite Runner         Khaled Hosseini   \n",
            "14  15   The Hitchhiker's Guide to the Galaxy           Douglas Adams   \n",
            "15  16                 The Fault in Our Stars              John Green   \n",
            "16  17             The Picture of Dorian Gray             Oscar Wilde   \n",
            "17  18                            The Martian               Andy Weir   \n",
            "18  19          One Hundred Years of Solitude  Gabriel García Márquez   \n",
            "19  20                              The Giver              Lois Lowry   \n",
            "\n",
            "                 genre                                   themes           era  \n",
            "0              Fiction         Coming-of-age, Racism, Injustice  20th Century  \n",
            "1      Science Fiction  Dystopia, Totalitarianism, Surveillance  20th Century  \n",
            "2              Romance             Social class, Love, Marriage  19th Century  \n",
            "3              Fiction        American Dream, Wealth, Decadence  20th Century  \n",
            "4              Fantasy         Magic, Friendship, Coming-of-age  20th Century  \n",
            "5              Fiction         Alienation, Growing up, Identity  20th Century  \n",
            "6              Fantasy                Adventure, Heroism, Greed  20th Century  \n",
            "7      Science Fiction            Dystopia, Technology, Freedom  20th Century  \n",
            "8              Romance     Love, Independence, Social criticism  19th Century  \n",
            "9             Thriller                Conspiracy, Religion, Art  21st Century  \n",
            "10         Young Adult            Dystopia, Survival, Rebellion  21st Century  \n",
            "11             Fiction    Self-discovery, Destiny, Spirituality  20th Century  \n",
            "12             Mystery              Crime, Corruption, Feminism  21st Century  \n",
            "13  Historical Fiction          Redemption, Friendship, Culture  21st Century  \n",
            "14     Science Fiction           Humor, Absurdity, Space travel  20th Century  \n",
            "15         Young Adult             Love, Illness, Coming-of-age  21st Century  \n",
            "16      Gothic Fiction             Beauty, Corruption, Hedonism  19th Century  \n",
            "17     Science Fiction             Survival, Science, Isolation  21st Century  \n",
            "18     Magical Realism                   Family, Time, Solitude  20th Century  \n",
            "19         Young Adult          Dystopia, Memory, Individuality  20th Century  >\n"
          ]
        }
      ]
    },
    {
      "cell_type": "markdown",
      "source": [
        "Combine relevant features (genre, themes, era) into a single text field for each book.\n",
        "\n",
        "sample code: from sklearn.feature_extraction.text import CountVectorizer vectorizer = CountVectorizer() vectorized = vectorizer.fit_transform(df2['data'])\n",
        "\n"
      ],
      "metadata": {
        "id": "4R_xNBsA88hL"
      }
    },
    {
      "cell_type": "code",
      "source": [
        "import pandas as pd\n",
        "from sklearn.feature_extraction.text import CountVectorizer\n",
        "df = pd.DataFrame(books)\n",
        "df['data'] = df['genre'] + ' ' + df['themes'] + ' ' + df['era']\n",
        "vectorizer = CountVectorizer()\n",
        "vectorized = vectorizer.fit_transform(df['data'])\n",
        "print(vectorized)"
      ],
      "metadata": {
        "id": "VSvj5JSz9BwV",
        "colab": {
          "base_uri": "https://localhost:8080/"
        },
        "outputId": "a4f38d42-3241-40c2-b4da-311abc9a8af1"
      },
      "execution_count": 3,
      "outputs": [
        {
          "output_type": "stream",
          "name": "stdout",
          "text": [
            "<Compressed Sparse Row sparse matrix of dtype 'int64'\n",
            "\twith 141 stored elements and shape (20, 72)>\n",
            "  Coords\tValues\n",
            "  (0, 27)\t1\n",
            "  (0, 13)\t1\n",
            "  (0, 49)\t1\n",
            "  (0, 6)\t1\n",
            "  (0, 50)\t1\n",
            "  (0, 41)\t1\n",
            "  (0, 1)\t1\n",
            "  (0, 11)\t1\n",
            "  (1, 27)\t1\n",
            "  (1, 1)\t1\n",
            "  (1, 11)\t1\n",
            "  (1, 56)\t1\n",
            "  (1, 23)\t1\n",
            "  (1, 67)\t1\n",
            "  (1, 62)\t1\n",
            "  (2, 11)\t1\n",
            "  (2, 55)\t1\n",
            "  (2, 58)\t1\n",
            "  (2, 12)\t1\n",
            "  (2, 43)\t1\n",
            "  (2, 46)\t1\n",
            "  (2, 0)\t1\n",
            "  (3, 27)\t1\n",
            "  (3, 1)\t1\n",
            "  (3, 11)\t1\n",
            "  :\t:\n",
            "  (16, 0)\t1\n",
            "  (16, 15)\t1\n",
            "  (16, 30)\t1\n",
            "  (16, 10)\t1\n",
            "  (16, 33)\t1\n",
            "  (17, 27)\t1\n",
            "  (17, 11)\t1\n",
            "  (17, 56)\t2\n",
            "  (17, 2)\t1\n",
            "  (17, 63)\t1\n",
            "  (17, 42)\t1\n",
            "  (18, 1)\t1\n",
            "  (18, 11)\t1\n",
            "  (18, 45)\t1\n",
            "  (18, 51)\t1\n",
            "  (18, 24)\t1\n",
            "  (18, 66)\t1\n",
            "  (18, 59)\t1\n",
            "  (19, 1)\t1\n",
            "  (19, 11)\t1\n",
            "  (19, 23)\t1\n",
            "  (19, 71)\t1\n",
            "  (19, 4)\t1\n",
            "  (19, 47)\t1\n",
            "  (19, 40)\t1\n"
          ]
        }
      ]
    },
    {
      "cell_type": "markdown",
      "source": [
        "Apply the cosine similarity on the vector we created in the previous step.\n",
        "\n",
        "sample code: from sklearn.metrics.pairwise import cosine_similarity similarities = cosine_similarity(vectorized)"
      ],
      "metadata": {
        "id": "1DZFRBmg9CIS"
      }
    },
    {
      "cell_type": "code",
      "source": [
        "import pandas as pd\n",
        "from sklearn.feature_extraction.text import CountVectorizer\n",
        "from sklearn.metrics.pairwise import cosine_similarity\n",
        "\n",
        "# DataFrame for the book category\n",
        "df = pd.DataFrame(books)\n",
        "df['features'] = df['genre'] + ' ' + df['themes'] + ' ' + df['era']\n",
        "\n",
        "# Vectorize for similarities\n",
        "vec = CountVectorizer()\n",
        "sim = pd.DataFrame(\n",
        "    cosine_similarity(vec.fit_transform(df['features'])),\n",
        "    index=df['title'],\n",
        "    columns=df['title']\n",
        ")\n",
        "\n",
        "# Book Recommendations\n",
        "book = \"The Great Gatsby\"\n",
        "print(f\"Books similar to '{book}':\")\n",
        "print(sim[book].sort_values(ascending=False)[1:6])"
      ],
      "metadata": {
        "id": "a1nSduzt9Kdn",
        "colab": {
          "base_uri": "https://localhost:8080/"
        },
        "outputId": "9461f8d7-4e15-4696-e5f3-84f4286ecd33"
      },
      "execution_count": 4,
      "outputs": [
        {
          "output_type": "stream",
          "name": "stdout",
          "text": [
            "Books similar to 'The Great Gatsby':\n",
            "title\n",
            "1984                      0.428571\n",
            "Brave New World           0.428571\n",
            "The Catcher in the Rye    0.428571\n",
            "The Alchemist             0.428571\n",
            "To Kill a Mockingbird     0.400892\n",
            "Name: The Great Gatsby, dtype: float64\n"
          ]
        }
      ]
    },
    {
      "cell_type": "markdown",
      "source": [
        "Create a function that takes a book title as input and returns the top N most similar books."
      ],
      "metadata": {
        "id": "iBS8ufSm9K1D"
      }
    },
    {
      "cell_type": "code",
      "source": [
        "import pandas as pd\n",
        "from sklearn.feature_extraction.text import CountVectorizer\n",
        "from sklearn.metrics.pairwise import cosine_similarity\n",
        "\n",
        "def get_similar_books(book_title, n=5):\n",
        "    books_df = pd.DataFrame(books)\n",
        "    books_df['features'] = books_df['genre'] + ' ' + books_df['themes'] + ' ' + books_df['era']\n",
        "\n",
        "    vectorizer = CountVectorizer()\n",
        "    vectors = vectorizer.fit_transform(books_df['features'])\n",
        "    sim_matrix = cosine_similarity(vectors)\n",
        "    sim_df = pd.DataFrame(sim_matrix, index=books_df['title'], columns=books_df['title'])\n",
        "\n",
        "    return sim_df[book_title].sort_values(ascending=False)[1:n+1]\n",
        "\n",
        "# Books similar to 1984\n",
        "print(\"Books similar to '1984':\")\n",
        "print(get_similar_books(\"1984\"))"
      ],
      "metadata": {
        "id": "LRDg1K069OMK",
        "colab": {
          "base_uri": "https://localhost:8080/"
        },
        "outputId": "8764cc39-c97b-435f-c327-331e083b3b59"
      },
      "execution_count": 5,
      "outputs": [
        {
          "output_type": "stream",
          "name": "stdout",
          "text": [
            "Books similar to '1984':\n",
            "title\n",
            "Brave New World                         0.714286\n",
            "The Hitchhiker's Guide to the Galaxy    0.534522\n",
            "The Martian                             0.503953\n",
            "The Alchemist                           0.428571\n",
            "The Giver                               0.428571\n",
            "Name: 1984, dtype: float64\n"
          ]
        }
      ]
    },
    {
      "cell_type": "markdown",
      "source": [
        "Test your recommendation system with different input books."
      ],
      "metadata": {
        "id": "gRtz1ZKQ9Ob6"
      }
    },
    {
      "cell_type": "code",
      "source": [
        "print(\"Books similar to The Hunger Games:\")\n",
        "print(get_similar_books(\"The Hunger Games\", n=3))"
      ],
      "metadata": {
        "id": "n_bHBVwI9U-S",
        "colab": {
          "base_uri": "https://localhost:8080/"
        },
        "outputId": "b00097ac-a2a1-48ff-feb2-d14d556405cd"
      },
      "execution_count": 6,
      "outputs": [
        {
          "output_type": "stream",
          "name": "stdout",
          "text": [
            "Books similar to The Hunger Games:\n",
            "title\n",
            "The Giver                 0.571429\n",
            "The Fault in Our Stars    0.503953\n",
            "The Martian               0.377964\n",
            "Name: The Hunger Games, dtype: float64\n"
          ]
        }
      ]
    }
  ]
}